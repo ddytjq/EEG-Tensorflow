{
 "cells": [
  {
   "cell_type": "markdown",
   "metadata": {
    "colab_type": "text",
    "id": "p8MHtMoesgNV"
   },
   "source": [
    "#### Python3 , gpu 설정\n",
    "#### Install Pytorch"
   ]
  },
  {
   "cell_type": "code",
   "execution_count": 0,
   "metadata": {
    "colab": {
     "autoexec": {
      "startup": false,
      "wait_interval": 0
     },
     "base_uri": "https://localhost:8080/",
     "height": 199
    },
    "colab_type": "code",
    "executionInfo": {
     "elapsed": 5068,
     "status": "ok",
     "timestamp": 1531528902147,
     "user": {
      "displayName": "김요섭",
      "photoUrl": "https://lh3.googleusercontent.com/a/default-user=s128",
      "userId": "106636099125020222589"
     },
     "user_tz": -540
    },
    "id": "hHsvShsYJjo_",
    "outputId": "5e062ea4-5984-4233-c11f-5d8fcc37b105"
   },
   "outputs": [
    {
     "name": "stdout",
     "output_type": "stream",
     "text": [
      "Requirement already satisfied: torch in /usr/local/lib/python3.6/dist-packages (0.3.0.post4)\r\n",
      "Requirement already satisfied: torchvision in /usr/local/lib/python3.6/dist-packages (0.2.1)\r\n",
      "Requirement already satisfied: numpy in /usr/local/lib/python3.6/dist-packages (from torch) (1.14.5)\r\n",
      "Requirement already satisfied: pyyaml in /usr/local/lib/python3.6/dist-packages (from torch) (3.13)\r\n",
      "Requirement already satisfied: pillow>=4.1.1 in /usr/local/lib/python3.6/dist-packages (from torchvision) (5.2.0)\r\n",
      "Requirement already satisfied: six in /usr/local/lib/python3.6/dist-packages (from torchvision) (1.11.0)\r\n"
     ]
    },
    {
     "data": {
      "text/plain": [
       "'0.3.0.post4'"
      ]
     },
     "execution_count": 23,
     "metadata": {
      "tags": []
     },
     "output_type": "execute_result"
    }
   ],
   "source": [
    "# Default Code\n",
    "!pip3 install torch torchvision\n",
    "\n",
    "# Code from Colab\n",
    "from os import path\n",
    "from wheel.pep425tags import get_abbr_impl, get_impl_ver, get_abi_tag\n",
    "platform = '{}{}-{}'.format(get_abbr_impl(), get_impl_ver(), get_abi_tag())\n",
    "\n",
    "accelerator = 'cu80' if path.exists('/opt/bin/nvidia-smi') else 'cpu'\n",
    "\n",
    "!pip install -q http://download.pytorch.org/whl/{accelerator}/torch-0.3.0.post4-{platform}-linux_x86_64.whl torchvision\n",
    "import torch\n",
    "torch.__version__"
   ]
  },
  {
   "cell_type": "markdown",
   "metadata": {
    "colab_type": "text",
    "id": "jPP3IPGLtxmi"
   },
   "source": [
    "#### Install Google Drive SDK ( 암호 2번 인증 )"
   ]
  },
  {
   "cell_type": "code",
   "execution_count": 0,
   "metadata": {
    "colab": {
     "autoexec": {
      "startup": false,
      "wait_interval": 0
     },
     "base_uri": "https://localhost:8080/",
     "height": 142
    },
    "colab_type": "code",
    "id": "EgZhSnBPKZ3I",
    "outputId": "63449aa1-acfd-46e8-accf-f3a22d3cc9ed"
   },
   "outputs": [
    {
     "name": "stdout",
     "output_type": "stream",
     "text": [
      "gpg: keybox '/tmp/tmps8d3w9sv/pubring.gpg' created\n",
      "gpg: /tmp/tmps8d3w9sv/trustdb.gpg: trustdb created\n",
      "gpg: key AD5F235DF639B041: public key \"Launchpad PPA for Alessandro Strada\" imported\n",
      "gpg: Total number processed: 1\n",
      "gpg:               imported: 1\n",
      "Warning: apt-key output should not be parsed (stdout is not a terminal)\n"
     ]
    }
   ],
   "source": [
    "!apt-get install -y -qq software-properties-common python-software-properties module-init-tools\n",
    "!add-apt-repository -y ppa:alessandro-strada/ppa 2>&1 > /dev/null\n",
    "!apt-get update -qq 2>&1 > /dev/null\n",
    "!apt-get -y install -qq google-drive-ocamlfuse fuse\n",
    "from google.colab import auth\n",
    "auth.authenticate_user()\n",
    "from oauth2client.client import GoogleCredentials\n",
    "creds = GoogleCredentials.get_application_default()\n",
    "import getpass\n",
    "!google-drive-ocamlfuse -headless -id={creds.client_id} -secret={creds.client_secret} < /dev/null 2>&1 | grep URL\n",
    "vcode = getpass.getpass()\n",
    "!echo {vcode} | google-drive-ocamlfuse -headless -id={creds.client_id} -secret={creds.client_secret}"
   ]
  },
  {
   "cell_type": "markdown",
   "metadata": {
    "colab_type": "text",
    "id": "6fdmoWAkt4Jd"
   },
   "source": [
    "#### Mount Google Drive"
   ]
  },
  {
   "cell_type": "code",
   "execution_count": 1,
   "metadata": {
    "colab": {
     "autoexec": {
      "startup": false,
      "wait_interval": 0
     },
     "base_uri": "https://localhost:8080/",
     "height": 136
    },
    "colab_type": "code",
    "executionInfo": {
     "elapsed": 7576,
     "status": "ok",
     "timestamp": 1531656050102,
     "user": {
      "displayName": "김요섭",
      "photoUrl": "https://lh3.googleusercontent.com/a/default-user=s128",
      "userId": "106636099125020222589"
     },
     "user_tz": -540
    },
    "id": "dSK9mrB4P1nk",
    "outputId": "9c69b343-26ad-45e4-a873-8fefadf45c2f"
   },
   "outputs": [
    {
     "name": "stdout",
     "output_type": "stream",
     "text": [
      "=  datalab  drive\n",
      "=  datalab  drive\n",
      "fuse: mountpoint is not empty\n",
      "fuse: if you are sure this is safe, use the 'nonempty' mount option\n",
      "사진    2학년  a.jpg  d.jpg\t   e.jpg       retrain.py\n",
      "창고    3학년  b.jpg  eeg_graph.pb  f.jpg       test\n",
      "1학년  4학년  c.jpg  eeg.ipynb\t   predict.py  workspace\n"
     ]
    }
   ],
   "source": [
    "!ls\n",
    "!mkdir -p drive\n",
    "!ls\n",
    "!google-drive-ocamlfuse drive\n",
    "!ls drive"
   ]
  },
  {
   "cell_type": "markdown",
   "metadata": {
    "colab_type": "text",
    "id": "6kefNvxZuVjq"
   },
   "source": [
    "#### Retrain & Inception V3, 100000번 학습\n"
   ]
  },
  {
   "cell_type": "code",
   "execution_count": 4,
   "metadata": {
    "colab": {
     "autoexec": {
      "startup": false,
      "wait_interval": 0
     },
     "base_uri": "https://localhost:8080/",
     "height": 582613,
     "output_embedded_package_id": "1Bx3cExZOUpadDAf7BtVEYot1oA7TVd0_"
    },
    "colab_type": "code",
    "executionInfo": {
     "elapsed": 14073301,
     "status": "ok",
     "timestamp": 1531651515339,
     "user": {
      "displayName": "김요섭",
      "photoUrl": "https://lh3.googleusercontent.com/a/default-user=s128",
      "userId": "106636099125020222589"
     },
     "user_tz": -540
    },
    "id": "NDewGT-ciTsx",
    "outputId": "c8f1a803-540b-400b-ead2-7d2b65ca92b7"
   },
   "outputs": [],
   "source": [
    "!python3 drive/retrain.py \n",
    "--bottleneck_dir = ./drive/workspace/bottlenecks \n",
    "--model_dir=./drive/workspace/inception \n",
    "--output_graph=./drive/eeg_graph.pb \n",
    "--output_labels=./drive/workspace/eeg_labels.txt \n",
    "--image_dir ./drive/workspace/dataset \n",
    "--how_many_training_steps 100000\n",
    "\n"
   ]
  }
 ],
 "metadata": {
  "accelerator": "GPU",
  "colab": {
   "collapsed_sections": [],
   "default_view": {},
   "name": "eeg.ipynb",
   "provenance": [],
   "version": "0.3.2",
   "views": {}
  },
  "kernelspec": {
   "display_name": "Python 3",
   "language": "python",
   "name": "python3"
  },
  "language_info": {
   "codemirror_mode": {
    "name": "ipython",
    "version": 3
   },
   "file_extension": ".py",
   "mimetype": "text/x-python",
   "name": "python",
   "nbconvert_exporter": "python",
   "pygments_lexer": "ipython3",
   "version": "3.6.5"
  }
 },
 "nbformat": 4,
 "nbformat_minor": 1
}
